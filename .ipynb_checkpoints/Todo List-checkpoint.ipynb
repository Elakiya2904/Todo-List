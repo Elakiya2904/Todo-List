{
 "cells": [
  {
   "cell_type": "code",
   "execution_count": 3,
   "id": "911ac152-7843-452e-a774-367f8df21bf3",
   "metadata": {},
   "outputs": [
    {
     "name": "stdout",
     "output_type": "stream",
     "text": [
      "\n",
      "To-Do List Menu\n",
      "1. View Tasks\n",
      "2. Add Task\n",
      "3. Remove Task\n",
      "4. Exit\n"
     ]
    },
    {
     "name": "stdin",
     "output_type": "stream",
     "text": [
      "Choose an option (1-4):  2\n",
      "Enter the task to add:  workout\n"
     ]
    },
    {
     "name": "stdout",
     "output_type": "stream",
     "text": [
      "Task 'workout' added!\n",
      "\n",
      "To-Do List Menu\n",
      "1. View Tasks\n",
      "2. Add Task\n",
      "3. Remove Task\n",
      "4. Exit\n"
     ]
    },
    {
     "name": "stdin",
     "output_type": "stream",
     "text": [
      "Choose an option (1-4):  1\n"
     ]
    },
    {
     "name": "stdout",
     "output_type": "stream",
     "text": [
      "\n",
      "Your Tasks:\n",
      "1. workout\n",
      "\n",
      "To-Do List Menu\n",
      "1. View Tasks\n",
      "2. Add Task\n",
      "3. Remove Task\n",
      "4. Exit\n"
     ]
    },
    {
     "name": "stdin",
     "output_type": "stream",
     "text": [
      "Choose an option (1-4):  4\n"
     ]
    },
    {
     "name": "stdout",
     "output_type": "stream",
     "text": [
      "Goodbye! 👋\n"
     ]
    }
   ],
   "source": [
    "def show_menu():\n",
    "    print(\"\\nTo-Do List Menu\")\n",
    "    print(\"1. View Tasks\")\n",
    "    print(\"2. Add Task\")\n",
    "    print(\"3. Remove Task\")\n",
    "    print(\"4. Exit\")\n",
    "\n",
    "def view_tasks():\n",
    "    if not todo_list:\n",
    "        print(\"\\nYour to-do list is empty!\")\n",
    "    else:\n",
    "        print(\"\\nYour Tasks:\")\n",
    "        for i, task in enumerate(todo_list, 1):\n",
    "            print(f\"{i}. {task}\")\n",
    "\n",
    "def add_task():\n",
    "    task = input(\"Enter the task to add: \")\n",
    "    todo_list.append(task)\n",
    "    print(f\"Task '{task}' added!\")\n",
    "\n",
    "def remove_task():\n",
    "    view_tasks()\n",
    "    if todo_list:\n",
    "        try:\n",
    "            task_num = int(input(\"Enter the task number to remove: \"))\n",
    "            removed = todo_list.pop(task_num - 1)\n",
    "            print(f\"Task '{removed}' removed!\")\n",
    "        except (IndexError, ValueError):\n",
    "            print(\"Invalid task number.\")\n",
    "\n",
    "while True:\n",
    "    show_menu()\n",
    "    choice = input(\"Choose an option (1-4): \")\n",
    "    if choice == '1':\n",
    "        view_tasks()\n",
    "    elif choice == '2':\n",
    "        add_task()\n",
    "    elif choice == '3':\n",
    "        remove_task()\n",
    "    elif choice == '4':\n",
    "        print(\"Goodbye! 👋\")\n",
    "        break\n",
    "    else:\n",
    "        print(\"Invalid choice. Please try again.\")"
   ]
  },
  {
   "cell_type": "code",
   "execution_count": null,
   "id": "80aba297-8e88-4711-aada-3b14c26df0fa",
   "metadata": {},
   "outputs": [],
   "source": []
  }
 ],
 "metadata": {
  "kernelspec": {
   "display_name": "Python [conda env:base] *",
   "language": "python",
   "name": "conda-base-py"
  },
  "language_info": {
   "codemirror_mode": {
    "name": "ipython",
    "version": 3
   },
   "file_extension": ".py",
   "mimetype": "text/x-python",
   "name": "python",
   "nbconvert_exporter": "python",
   "pygments_lexer": "ipython3",
   "version": "3.12.7"
  }
 },
 "nbformat": 4,
 "nbformat_minor": 5
}
